{
 "cells": [
  {
   "cell_type": "code",
   "execution_count": 1,
   "metadata": {},
   "outputs": [],
   "source": [
    "import pandas as pd\n",
    "import numpy as np"
   ]
  },
  {
   "cell_type": "code",
   "execution_count": 2,
   "metadata": {},
   "outputs": [],
   "source": [
    "D = pd.read_csv(\"ratings.csv\") "
   ]
  },
  {
   "cell_type": "code",
   "execution_count": 3,
   "metadata": {},
   "outputs": [
    {
     "data": {
      "text/html": [
       "<div>\n",
       "<style scoped>\n",
       "    .dataframe tbody tr th:only-of-type {\n",
       "        vertical-align: middle;\n",
       "    }\n",
       "\n",
       "    .dataframe tbody tr th {\n",
       "        vertical-align: top;\n",
       "    }\n",
       "\n",
       "    .dataframe thead th {\n",
       "        text-align: right;\n",
       "    }\n",
       "</style>\n",
       "<table border=\"1\" class=\"dataframe\">\n",
       "  <thead>\n",
       "    <tr style=\"text-align: right;\">\n",
       "      <th></th>\n",
       "      <th>Title</th>\n",
       "      <th>Genres</th>\n",
       "      <th>Rank</th>\n",
       "      <th>Popularity</th>\n",
       "      <th>Score</th>\n",
       "      <th>Episodes</th>\n",
       "      <th>Episode length</th>\n",
       "      <th>Release Date</th>\n",
       "    </tr>\n",
       "  </thead>\n",
       "  <tbody>\n",
       "    <tr>\n",
       "      <th>0</th>\n",
       "      <td>Kaguya-sama wa Kokurasetai: Ultra Romantic</td>\n",
       "      <td>Comedy,Suspense</td>\n",
       "      <td>13</td>\n",
       "      <td>404</td>\n",
       "      <td>8.99</td>\n",
       "      <td>12</td>\n",
       "      <td>23 min. per ep.</td>\n",
       "      <td>Spring 2022</td>\n",
       "    </tr>\n",
       "    <tr>\n",
       "      <th>1</th>\n",
       "      <td>3-gatsu no Lion 2nd Season</td>\n",
       "      <td>Drama,Slice of Life</td>\n",
       "      <td>14</td>\n",
       "      <td>533</td>\n",
       "      <td>8.96</td>\n",
       "      <td>22</td>\n",
       "      <td>25 min. per ep.</td>\n",
       "      <td>Fall 2017</td>\n",
       "    </tr>\n",
       "    <tr>\n",
       "      <th>2</th>\n",
       "      <td>Gintama Movie 2: Kanketsu-hen - Yorozuya yo Ei...</td>\n",
       "      <td>Action,Comedy,Sci-Fi</td>\n",
       "      <td>19</td>\n",
       "      <td>939</td>\n",
       "      <td>8.93</td>\n",
       "      <td>1</td>\n",
       "      <td>1 hr. 50 min.</td>\n",
       "      <td>NaN</td>\n",
       "    </tr>\n",
       "    <tr>\n",
       "      <th>3</th>\n",
       "      <td>Gintama.</td>\n",
       "      <td>Action,Comedy,Sci-Fi</td>\n",
       "      <td>12</td>\n",
       "      <td>735</td>\n",
       "      <td>8.99</td>\n",
       "      <td>12</td>\n",
       "      <td>24 min. per ep.</td>\n",
       "      <td>Winter 2017</td>\n",
       "    </tr>\n",
       "    <tr>\n",
       "      <th>4</th>\n",
       "      <td>Koe no Katachi</td>\n",
       "      <td>NaN</td>\n",
       "      <td>15</td>\n",
       "      <td>19</td>\n",
       "      <td>8.96</td>\n",
       "      <td>1</td>\n",
       "      <td>2 hr. 10 min.</td>\n",
       "      <td>NaN</td>\n",
       "    </tr>\n",
       "  </tbody>\n",
       "</table>\n",
       "</div>"
      ],
      "text/plain": [
       "                                               Title                Genres  \\\n",
       "0         Kaguya-sama wa Kokurasetai: Ultra Romantic       Comedy,Suspense   \n",
       "1                         3-gatsu no Lion 2nd Season   Drama,Slice of Life   \n",
       "2  Gintama Movie 2: Kanketsu-hen - Yorozuya yo Ei...  Action,Comedy,Sci-Fi   \n",
       "3                                           Gintama.  Action,Comedy,Sci-Fi   \n",
       "4                                     Koe no Katachi                   NaN   \n",
       "\n",
       "  Rank  Popularity  Score Episodes   Episode length Release Date  \n",
       "0   13         404   8.99       12  23 min. per ep.  Spring 2022  \n",
       "1   14         533   8.96       22  25 min. per ep.    Fall 2017  \n",
       "2   19         939   8.93        1    1 hr. 50 min.          NaN  \n",
       "3   12         735   8.99       12  24 min. per ep.  Winter 2017  \n",
       "4   15          19   8.96        1    2 hr. 10 min.          NaN  "
      ]
     },
     "execution_count": 3,
     "metadata": {},
     "output_type": "execute_result"
    }
   ],
   "source": [
    "D.head()"
   ]
  },
  {
   "cell_type": "code",
   "execution_count": 4,
   "metadata": {},
   "outputs": [
    {
     "data": {
      "text/plain": [
       "Title                 0\n",
       "Genres            10327\n",
       "Rank                  0\n",
       "Popularity            0\n",
       "Score              6324\n",
       "Episodes              0\n",
       "Episode length        0\n",
       "Release Date      15256\n",
       "dtype: int64"
      ]
     },
     "execution_count": 4,
     "metadata": {},
     "output_type": "execute_result"
    }
   ],
   "source": [
    "D.isnull().sum()"
   ]
  },
  {
   "cell_type": "code",
   "execution_count": 5,
   "metadata": {},
   "outputs": [],
   "source": [
    "# Forward-fill missing values in the 'Genres' column\n",
    "D['Genres'].fillna(method='ffill', inplace=True)\n",
    "\n",
    "D['Score'].fillna(round(D['Score'].mean(), 2), inplace=True)\n",
    "\n",
    "D['Release Date'].fillna(method='ffill', inplace=True)"
   ]
  },
  {
   "cell_type": "code",
   "execution_count": 7,
   "metadata": {},
   "outputs": [
    {
     "data": {
      "text/html": [
       "<div>\n",
       "<style scoped>\n",
       "    .dataframe tbody tr th:only-of-type {\n",
       "        vertical-align: middle;\n",
       "    }\n",
       "\n",
       "    .dataframe tbody tr th {\n",
       "        vertical-align: top;\n",
       "    }\n",
       "\n",
       "    .dataframe thead th {\n",
       "        text-align: right;\n",
       "    }\n",
       "</style>\n",
       "<table border=\"1\" class=\"dataframe\">\n",
       "  <thead>\n",
       "    <tr style=\"text-align: right;\">\n",
       "      <th></th>\n",
       "      <th>Title</th>\n",
       "      <th>Genres</th>\n",
       "      <th>Rank</th>\n",
       "      <th>Popularity</th>\n",
       "      <th>Score</th>\n",
       "      <th>Episodes</th>\n",
       "      <th>Episode length</th>\n",
       "      <th>Release Date</th>\n",
       "    </tr>\n",
       "  </thead>\n",
       "  <tbody>\n",
       "    <tr>\n",
       "      <th>0</th>\n",
       "      <td>Kaguya-sama wa Kokurasetai: Ultra Romantic</td>\n",
       "      <td>Comedy,Suspense</td>\n",
       "      <td>13</td>\n",
       "      <td>404</td>\n",
       "      <td>8.99</td>\n",
       "      <td>12</td>\n",
       "      <td>23 min. per ep.</td>\n",
       "      <td>Spring 2022</td>\n",
       "    </tr>\n",
       "    <tr>\n",
       "      <th>1</th>\n",
       "      <td>3-gatsu no Lion 2nd Season</td>\n",
       "      <td>Drama,Slice of Life</td>\n",
       "      <td>14</td>\n",
       "      <td>533</td>\n",
       "      <td>8.96</td>\n",
       "      <td>22</td>\n",
       "      <td>25 min. per ep.</td>\n",
       "      <td>Fall 2017</td>\n",
       "    </tr>\n",
       "    <tr>\n",
       "      <th>2</th>\n",
       "      <td>Gintama Movie 2: Kanketsu-hen - Yorozuya yo Ei...</td>\n",
       "      <td>Action,Comedy,Sci-Fi</td>\n",
       "      <td>19</td>\n",
       "      <td>939</td>\n",
       "      <td>8.93</td>\n",
       "      <td>1</td>\n",
       "      <td>1 hr. 50 min.</td>\n",
       "      <td>Fall 2017</td>\n",
       "    </tr>\n",
       "    <tr>\n",
       "      <th>3</th>\n",
       "      <td>Gintama.</td>\n",
       "      <td>Action,Comedy,Sci-Fi</td>\n",
       "      <td>12</td>\n",
       "      <td>735</td>\n",
       "      <td>8.99</td>\n",
       "      <td>12</td>\n",
       "      <td>24 min. per ep.</td>\n",
       "      <td>Winter 2017</td>\n",
       "    </tr>\n",
       "    <tr>\n",
       "      <th>4</th>\n",
       "      <td>Koe no Katachi</td>\n",
       "      <td>Action,Comedy,Sci-Fi</td>\n",
       "      <td>15</td>\n",
       "      <td>19</td>\n",
       "      <td>8.96</td>\n",
       "      <td>1</td>\n",
       "      <td>2 hr. 10 min.</td>\n",
       "      <td>Winter 2017</td>\n",
       "    </tr>\n",
       "  </tbody>\n",
       "</table>\n",
       "</div>"
      ],
      "text/plain": [
       "                                               Title                Genres  \\\n",
       "0         Kaguya-sama wa Kokurasetai: Ultra Romantic       Comedy,Suspense   \n",
       "1                         3-gatsu no Lion 2nd Season   Drama,Slice of Life   \n",
       "2  Gintama Movie 2: Kanketsu-hen - Yorozuya yo Ei...  Action,Comedy,Sci-Fi   \n",
       "3                                           Gintama.  Action,Comedy,Sci-Fi   \n",
       "4                                     Koe no Katachi  Action,Comedy,Sci-Fi   \n",
       "\n",
       "  Rank  Popularity  Score Episodes   Episode length Release Date  \n",
       "0   13         404   8.99       12  23 min. per ep.  Spring 2022  \n",
       "1   14         533   8.96       22  25 min. per ep.    Fall 2017  \n",
       "2   19         939   8.93        1    1 hr. 50 min.    Fall 2017  \n",
       "3   12         735   8.99       12  24 min. per ep.  Winter 2017  \n",
       "4   15          19   8.96        1    2 hr. 10 min.  Winter 2017  "
      ]
     },
     "execution_count": 7,
     "metadata": {},
     "output_type": "execute_result"
    }
   ],
   "source": [
    "D.head()"
   ]
  },
  {
   "cell_type": "code",
   "execution_count": 8,
   "metadata": {},
   "outputs": [],
   "source": [
    "D.to_csv('anime.csv', index=False)"
   ]
  }
 ],
 "metadata": {
  "kernelspec": {
   "display_name": "base",
   "language": "python",
   "name": "python3"
  },
  "language_info": {
   "codemirror_mode": {
    "name": "ipython",
    "version": 3
   },
   "file_extension": ".py",
   "mimetype": "text/x-python",
   "name": "python",
   "nbconvert_exporter": "python",
   "pygments_lexer": "ipython3",
   "version": "3.9.16"
  }
 },
 "nbformat": 4,
 "nbformat_minor": 2
}
